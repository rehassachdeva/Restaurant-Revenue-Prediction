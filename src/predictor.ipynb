{
 "cells": [
  {
   "cell_type": "code",
   "execution_count": 17,
   "metadata": {
    "collapsed": false
   },
   "outputs": [],
   "source": [
    "# For data handling\n",
    "import pandas as pd\n",
    "import numpy as np\n",
    "\n",
    "# Disable warnings from printing\n",
    "from warnings import filterwarnings\n",
    "filterwarnings('ignore')\n",
    "\n",
    "# For visualizations\n",
    "import seaborn as sns\n",
    "import matplotlib.pyplot as plt\n",
    "% config InlineBackend.figure_format = 'png'\n",
    "% matplotlib inline\n",
    "\n",
    "# For data parsing\n",
    "from datetime import datetime\n",
    "\n",
    "# For choosing attributes that have good gaussian distribution\n",
    "from scipy.stats import shapiro\n",
    "\n",
    "# Needed for getting parameters for models\n",
    "from sklearn.cross_validation import LeaveOneOut\n",
    "from sklearn.grid_search import GridSearchCV, RandomizedSearchCV\n",
    "\n",
    "# Models\n",
    "from sklearn.svm import SVR, LinearSVR\n",
    "from sklearn.ensemble import RandomForestRegressor, ExtraTreesClassifier\n",
    "from sklearn.linear_model import Ridge, Lasso\n",
    "from sklearn import cluster\n",
    "from sklearn.neighbors import KNeighborsClassifier\n",
    "\n",
    "# For scaling/normalizing values\n",
    "from sklearn.preprocessing import MinMaxScaler"
   ]
  },
  {
   "cell_type": "code",
   "execution_count": 18,
   "metadata": {
    "collapsed": false
   },
   "outputs": [],
   "source": [
    "def read_data(filename):\n",
    "    dataset = pd.read_csv(filename, index_col=0)\n",
    "    return dataset\n",
    "\n",
    "# Read the dataset\n",
    "train = read_data(\"../data/train.csv\")\n",
    "test = read_data(\"../data/test.csv\")\n",
    "\n",
    "# Calculate number of samples in training and test datasets\n",
    "num_train = train.shape[0]\n",
    "num_test = test.shape[0]\n",
    "\n",
    "# For feature engineering, combine train and test data\n",
    "data = pd.concat((train.loc[:, \"Open Date\" : \"P37\"],\n",
    "                  test.loc[:, \"Open Date\" : \"P37\"]), ignore_index=True)"
   ]
  },
  {
   "cell_type": "code",
   "execution_count": 19,
   "metadata": {
    "collapsed": false
   },
   "outputs": [],
   "source": [
    "# According to the paper\n",
    "def parse_date(data):\n",
    "    \n",
    "    # Assume a date which is later than latest opening date of all the restaurants\n",
    "    latest_date = datetime.strptime(\"01/01/2015\", '%m/%d/%Y')\n",
    "    \n",
    "    open_num_days = []\n",
    "    open_month = []\n",
    "    open_year = []\n",
    "\n",
    "    for date in data['Open Date']:\n",
    "        cur_date = datetime.strptime(date, '%m/%d/%Y')\n",
    "        open_num_days.append((latest_date - cur_date).days)\n",
    "        open_month.append(cur_date.month)\n",
    "        open_year.append(cur_date.year)\n",
    "\n",
    "    data['Days'] = open_num_days\n",
    "    # data['Month'] = open_month\n",
    "    # data['Year'] = open_year\n",
    "    \n",
    "    # Log transform number of days since opened \n",
    "    data['Days'] = data['Days'].apply(np.log)\n",
    "    # data['Month'] = data['Month'].apply(np.log)\n",
    "    # data['Year'] = data['Year'].apply(np.log)\n",
    "    \n",
    "    del data[\"Open Date\"]\n",
    "    \n",
    "    return data\n",
    "\n",
    "# Parse date of opening of restaurant to get the number of days it has stayed open, month\n",
    "# in which it opened and year in which it opened. The additional month and year features\n",
    "# can potentially help proxy seasonality differences since restaurant revenues are\n",
    "# highly cylical.\n",
    "data = parse_date(data)"
   ]
  },
  {
   "cell_type": "code",
   "execution_count": 20,
   "metadata": {
    "collapsed": true
   },
   "outputs": [],
   "source": [
    "# Proposed treatment for City\n",
    "# Replace city names with count of their frequency\n",
    "city_counts = data[\"City\"].value_counts()\n",
    "data[\"City\"] = data[\"City\"].replace(city_counts)"
   ]
  },
  {
   "cell_type": "code",
   "execution_count": 6,
   "metadata": {
    "collapsed": false
   },
   "outputs": [
    {
     "data": {
      "text/plain": [
       "<matplotlib.axes._subplots.AxesSubplot at 0x7f6b34dc3668>"
      ]
     },
     "execution_count": 6,
     "metadata": {},
     "output_type": "execute_result"
    },
    {
     "data": {
      "image/png": "[encoded data removed]",
      "text/plain": [
       "<matplotlib.figure.Figure at 0x7f6b33e06fd0>"
      ]
     },
     "metadata": {},
     "output_type": "display_data"
    }
   ],
   "source": [
    "# According to the paper\n",
    "# There is unaccounted problem for City as well.\n",
    "# Plotting mean of P-variables over each city helps us see which P-variables are highly related to City\n",
    "# since we are given that one class of P-variables is geographical attributes.\n",
    "distinct_cities = train.loc[:, \"City\"].unique()\n",
    "\n",
    "# Get the mean of each p-variable for each city\n",
    "means = []\n",
    "for col in train.columns[4:41]:\n",
    "    temp = []\n",
    "    for city in distinct_cities:\n",
    "        temp.append(train.loc[train.City == city, col].mean())     \n",
    "    means.append(temp)\n",
    "    \n",
    "# Construct data frame for plotting\n",
    "city_pvars = pd.DataFrame(columns=[\"city_var\", \"means\"])\n",
    "for i in range(37):\n",
    "    for j in range(len(distinct_cities)):\n",
    "        city_pvars.loc[i+37*j] = [\"P\"+str(i+1), means[i][j]]\n",
    "        \n",
    "# Plot boxplot\n",
    "plt.rcParams['figure.figsize'] = (18.0, 6.0)\n",
    "sns.boxplot(x=\"city_var\", y=\"means\", data=city_pvars)\n",
    "\n",
    "# From this we observe that P1, P2, P11, P19, P20, P23, and P30 are approximately a good\n",
    "# proxy for geographical location."
   ]
  },
  {
   "cell_type": "code",
   "execution_count": 144,
   "metadata": {
    "collapsed": false
   },
   "outputs": [],
   "source": [
    "# K Means treatment for city (mentioned in the paper)\n",
    "def adjust_cities(data, train, k):\n",
    "    \n",
    "    # As found by box plot of each city's mean over each p-var\n",
    "    relevant_pvars =  [\"P1\", \"P2\", \"P11\", \"P19\", \"P20\", \"P23\", \"P30\"]\n",
    "    train = train.loc[:, relevant_pvars]\n",
    "    \n",
    "    # Optimal k is 20 as found by DB-Index plot    \n",
    "    kmeans = cluster.KMeans(n_clusters=k)\n",
    "    kmeans.fit(train)\n",
    "    \n",
    "    # Get the cluster centers and classify city of each data instance to one of the centers\n",
    "    data['City Cluster'] = kmeans.predict(data.loc[:, relevant_pvars])\n",
    "    del data[\"City\"]\n",
    "    \n",
    "    return data\n",
    "\n",
    "# Convert unknown cities in test data to clusters based on known cities using KMeans\n",
    "data = adjust_cities(data, train, 20)"
   ]
  },
  {
   "cell_type": "code",
   "execution_count": 21,
   "metadata": {
    "collapsed": false
   },
   "outputs": [
    {
     "data": {
      "image/png": "[encoded data removed]",
      "text/plain": [
       "<matplotlib.figure.Figure at 0x7f223ac14a90>"
      ]
     },
     "metadata": {},
     "output_type": "display_data"
    }
   ],
   "source": [
    "# According to the paper\n",
    "# The two categories of City Group both appear very frequently\n",
    "plt.rcParams['figure.figsize'] = (6.0, 6.0)\n",
    "sns.countplot(x='City Group', data=train, palette=\"Greens_d\")\n",
    "\n",
    "# One hot encode City Group\n",
    "data = data.join(pd.get_dummies(data['City Group'], prefix=\"CG\"))\n",
    "\n",
    "# Since only n-1 columns are needed to binarize n categories, drop one of the new columns.  \n",
    "# And drop the original columns.\n",
    "data = data.drop([\"City Group\", \"CG_Other\"], axis=1)"
   ]
  },
  {
   "cell_type": "code",
   "execution_count": 105,
   "metadata": {
    "collapsed": false
   },
   "outputs": [
    {
     "data": {
      "image/png": "[encoded data removed]",
      "text/plain": [
       "<matplotlib.figure.Figure at 0x7fdcbb15a390>"
      ]
     },
     "metadata": {},
     "output_type": "display_data"
    }
   ],
   "source": [
    "# Proposed alternative for Type treatment\n",
    "# Two of the four Restaurant Types (DT and MB), are extremely rare\n",
    "sns.countplot(x='Type', data=data, palette=\"Greens_d\")\n",
    "\n",
    "# One hot encode Restaurant Type\n",
    "data = data.join(pd.get_dummies(data['Type'], prefix=\"T\"))\n",
    " \n",
    "# Drop the original column. Also drop the extremely rare restaurant types.\n",
    "data = data.drop([\"Type\", \"T_MB\", \"T_DT\"], axis=1)\n",
    "\n",
    "# Map values for the very rare restaurant types to one of the common types\n",
    "\n",
    "# tofit are the rows in the train set that belong to one of the common restaurnat types\n",
    "tofit = data[data.index<num_train]\n",
    "tofit = tofit.ix[((tofit.T_FC == 1) | (tofit.T_IL == 1))]\n",
    "\n",
    "# tofill are rows in either train or test that belong to one of the rare types\n",
    "tofill = data.ix[((data.T_FC == 0) & (data.T_IL == 0))]\n",
    "\n",
    "# Resaruants with type FC are labeled 1, those with type IL are labeled 0.\n",
    "y = tofit.T_FC\n",
    "\n",
    "# Drop the label columns\n",
    "X = tofit.drop([\"T_FC\", \"T_IL\"], axis=1)\n",
    "\n",
    "# Define and train a model to impute restaurant type\n",
    "# The grid below just has a range of values that commonly\n",
    "# work well with random forest type models (of which ExtraTrees is one).\n",
    "model_grid = {'max_depth': [None, 8], 'min_samples_split': [4,9,16],\n",
    "              'min_samples_leaf':[1,4], 'max_features':['sqrt', 0.5, None]\n",
    "             }\n",
    "type_model = ExtraTreesClassifier(n_estimators=25, random_state=0)\n",
    "\n",
    "grid = RandomizedSearchCV(type_model, model_grid, n_iter=10, cv=5, scoring=\"roc_auc\")\n",
    "grid.fit(X, y)\n",
    "\n",
    "type_model.set_params(**grid.best_params_)\n",
    "type_model.fit(X, y)\n",
    "\n",
    "imputations = type_model.predict(tofill.drop([\"T_FC\", \"T_IL\"], axis=1))\n",
    "data.loc[(data.T_FC == 0) & (data.T_IL == 0), \"T_FC\"] = imputations\n",
    "data = data.drop([\"T_IL\"], axis=1)"
   ]
  },
  {
   "cell_type": "code",
   "execution_count": 22,
   "metadata": {
    "collapsed": false
   },
   "outputs": [],
   "source": [
    "# According to the paper\n",
    "def adjust_type(data):\n",
    "    \n",
    "    # Augment data with id for original order of records\n",
    "    data.loc[:, \"tempIdx\"] = data.index\n",
    "    \n",
    "    # Get records with restaurant type = \"Mobile\"\n",
    "    query_matrix = data.loc[data.Type == \"MB\", :]\n",
    "    \n",
    "    # Get records with restaurant type != \"Mobile\"\n",
    "    search_matrix = data.loc[data.Type != \"MB\", :]\n",
    "\n",
    "    # Use only continuous features for classification\n",
    "    features = data.columns.values[2:]\n",
    "\n",
    "    # Predict known type using KNN\n",
    "    clf = KNeighborsClassifier(n_neighbors=5)\n",
    "    clf.fit(search_matrix.loc[:, features], search_matrix.loc[:, 'Type'])\n",
    "    query_matrix.loc[:, 'Type'] = clf.predict(query_matrix.loc[:, features])\n",
    "    \n",
    "    # Construct data to original form and order\n",
    "    data = pd.concat((search_matrix.loc[:, \"Type\" : \"tempIdx\"],\n",
    "                      query_matrix.loc[:, \"Type\" : \"tempIdx\"]), ignore_index = True)\n",
    "    data = data.sort_values([\"tempIdx\"])\n",
    "    del data[\"tempIdx\"]\n",
    "    \n",
    "    # One hot encode Type\n",
    "    data = data.join(pd.get_dummies(data['Type'], prefix=\"T\"))\n",
    "\n",
    "    # Since only n-1 columns are needed to binarize n categories, drop one of the new columns.  \n",
    "    # And drop the original columns.\n",
    "    data = data.drop([\"Type\", \"T_IL\"], axis=1)\n",
    "    \n",
    "    return data\n",
    "\n",
    "# Convert unknown restaurant types in test data to known restaurant types using KNN\n",
    "data = adjust_type(data)"
   ]
  },
  {
   "cell_type": "code",
   "execution_count": 23,
   "metadata": {
    "collapsed": true
   },
   "outputs": [],
   "source": [
    "# Proposed idea, in addition to the paper\n",
    "# A certain set of columns are either mostly all zero or all non-zero.  \n",
    "# We added a feature to mark this  - The \"zeros\" feature that holds this count of zero columns.\n",
    "\n",
    "# The features with the notable zero behavior:\n",
    "zero_cols = ['P14', 'P15', 'P16', 'P17', 'P18', 'P24', 'P25', 'P26', 'P27', 'P30', 'P31', 'P32', 'P33',\n",
    "             'P34', 'P35', 'P36', 'P37']\n",
    "\n",
    "data['zeros'] = (data[zero_cols] == 0).sum(1)"
   ]
  },
  {
   "cell_type": "code",
   "execution_count": 24,
   "metadata": {
    "collapsed": false
   },
   "outputs": [],
   "source": [
    "# Proposed alternative to categorical vs continuous problem\n",
    "# one hot encoding for \"P\" variables - taking them as categorical\n",
    "for col in data.columns:\n",
    "    if col[0] == 'P':\n",
    "        data = data.join(pd.get_dummies(data[col], prefix=col))\n",
    "        # Since only n-1 columns are needed to binarize n categories,\n",
    "        # drop one of the new columns.\n",
    "        data = data.drop([col, data.columns[-1]], axis=1)"
   ]
  },
  {
   "cell_type": "code",
   "execution_count": 25,
   "metadata": {
    "collapsed": true
   },
   "outputs": [],
   "source": [
    "# Proposed idea, in addition to the paper\n",
    "# Scale all input features to between 0 and 1.\n",
    "min_max_scaler = MinMaxScaler()\n",
    "\n",
    "data = pd.DataFrame(data=min_max_scaler.fit_transform(data),\n",
    "                    columns=data.columns, index=data.index)"
   ]
  },
  {
   "cell_type": "code",
   "execution_count": 26,
   "metadata": {
    "collapsed": false
   },
   "outputs": [
    {
     "data": {
      "image/png": "[encoded data removed]",
      "text/plain": [
       "<matplotlib.figure.Figure at 0x7f223af1c1d0>"
      ]
     },
     "metadata": {},
     "output_type": "display_data"
    }
   ],
   "source": [
    "# Sqrt  treatment before after distributions\n",
    "plt.rcParams['figure.figsize'] = (16.0, 6.0)\n",
    "graph_data = pd.DataFrame(\n",
    "        {\n",
    "            (\"Revenue\") : train[\"Revenue\"],\n",
    "            (\"Sqrt(Revenue)\") : np.sqrt(train[\"Revenue\"])\n",
    "        }\n",
    "    )\n",
    "graph_data.hist()\n",
    "\n",
    "# Proposed sqrt treatment for revenue\n",
    "# Scale revenue by sqrt. \n",
    "# The purpose is to decrease the influence of the few very large revenue values.\n",
    "train[\"Revenue\"] = train.Revenue.apply(np.sqrt)"
   ]
  },
  {
   "cell_type": "code",
   "execution_count": 346,
   "metadata": {
    "collapsed": false
   },
   "outputs": [
    {
     "data": {
      "image/png": "[encoded data removed]",
      "text/plain": [
       "<matplotlib.figure.Figure at 0x7fdcba6b4278>"
      ]
     },
     "metadata": {},
     "output_type": "display_data"
    }
   ],
   "source": [
    "# According to the paper\n",
    "# Check distribution of revenue and log(revenue)\n",
    "plt.rcParams['figure.figsize'] = (16.0, 6.0)\n",
    "pvalue_before = shapiro(train[\"Revenue\"])[1]\n",
    "pvalue_after = shapiro(np.log(train[\"Revenue\"]))[1]\n",
    "graph_data = pd.DataFrame(\n",
    "        {\n",
    "            (\"Revenue\\n P-value:\" + str(pvalue_before)) : train[\"Revenue\"],\n",
    "            (\"Log(Revenue)\\n P-value:\" + str(pvalue_after)) : np.log(train[\"Revenue\"])\n",
    "        }\n",
    "    )\n",
    "graph_data.hist()\n",
    "\n",
    "# log transform revenue as it is approximately normal. If this distribution for revenue holds in the test set,\n",
    "# log transforming the variable before training models will improve performance vastly.\n",
    "# However, we cannot be completely certain that this distribution will hold in the test set.\n",
    "train[\"Revenue\"] = np.log(train[\"Revenue\"])"
   ]
  },
  {
   "cell_type": "code",
   "execution_count": 27,
   "metadata": {
    "collapsed": true
   },
   "outputs": [],
   "source": [
    "# Split into train and test datasets\n",
    "train_processed = data[:num_train]\n",
    "test_processed = data[num_train:]"
   ]
  },
  {
   "cell_type": "code",
   "execution_count": 454,
   "metadata": {
    "collapsed": false
   },
   "outputs": [],
   "source": [
    "# SVR model\n",
    "svr_clf = SVR()\n",
    "svr_clf.fit(train_processed, train[\"Revenue\"])\n",
    "results_svm = svr_clf.predict(test_processed)"
   ]
  },
  {
   "cell_type": "code",
   "execution_count": null,
   "metadata": {
    "collapsed": true
   },
   "outputs": [],
   "source": [
    "# Log treatment\n",
    "results_svm = np.exp(results_svm)"
   ]
  },
  {
   "cell_type": "code",
   "execution_count": 455,
   "metadata": {
    "collapsed": true
   },
   "outputs": [],
   "source": [
    "# Sqrt treatment\n",
    "results_svm = np.square(results_svm)"
   ]
  },
  {
   "cell_type": "code",
   "execution_count": 456,
   "metadata": {
    "collapsed": false
   },
   "outputs": [],
   "source": [
    "# RF model\n",
    "rf = RandomForestRegressor()\n",
    "rf.fit(train_processed, train[\"Revenue\"])\n",
    "results_rf = rf.predict(test_processed)"
   ]
  },
  {
   "cell_type": "code",
   "execution_count": 75,
   "metadata": {
    "collapsed": true
   },
   "outputs": [],
   "source": [
    "# Log treatment\n",
    "results_rf = np.exp(results_rf)"
   ]
  },
  {
   "cell_type": "code",
   "execution_count": 457,
   "metadata": {
    "collapsed": true
   },
   "outputs": [],
   "source": [
    "# Sqrt treatment\n",
    "results_rf = np.square(results_rf)"
   ]
  },
  {
   "cell_type": "code",
   "execution_count": 28,
   "metadata": {
    "collapsed": false
   },
   "outputs": [
    {
     "data": {
      "text/plain": [
       "[{'alpha': array([  1.00000000e+00,   1.59985872e+00,   2.55954792e+00,\n",
       "           4.09491506e+00,   6.55128557e+00,   1.04811313e+01,\n",
       "           1.67683294e+01,   2.68269580e+01,   4.29193426e+01,\n",
       "           6.86648845e+01,   1.09854114e+02,   1.75751062e+02,\n",
       "           2.81176870e+02,   4.49843267e+02,   7.19685673e+02,\n",
       "           1.15139540e+03,   1.84206997e+03,   2.94705170e+03,\n",
       "           4.71486636e+03,   7.54312006e+03,   1.20679264e+04,\n",
       "           1.93069773e+04,   3.08884360e+04,   4.94171336e+04,\n",
       "           7.90604321e+04,   1.26485522e+05,   2.02358965e+05,\n",
       "           3.23745754e+05,   5.17947468e+05,   8.28642773e+05,\n",
       "           1.32571137e+06,   2.12095089e+06,   3.39322177e+06,\n",
       "           5.42867544e+06,   8.68511374e+06,   1.38949549e+07,\n",
       "           2.22299648e+07,   3.55648031e+07,   5.68986603e+07,\n",
       "           9.10298178e+07,   1.45634848e+08,   2.32995181e+08,\n",
       "           3.72759372e+08,   5.96362332e+08,   9.54095476e+08,\n",
       "           1.52641797e+09,   2.44205309e+09,   3.90693994e+09,\n",
       "           6.25055193e+09,   1.00000000e+10]), 'normalize': [True, False]}]"
      ]
     },
     "execution_count": 28,
     "metadata": {},
     "output_type": "execute_result"
    }
   ],
   "source": [
    "model_grid = [{'normalize': [True, False], 'alpha': np.logspace(0,10)}]\n",
    "model_grid"
   ]
  },
  {
   "cell_type": "code",
   "execution_count": 29,
   "metadata": {
    "collapsed": false
   },
   "outputs": [
    {
     "data": {
      "text/plain": [
       "GridSearchCV(cv=sklearn.cross_validation.LeaveOneOut(n=137),\n",
       "       error_score='raise',\n",
       "       estimator=Ridge(alpha=1.0, copy_X=True, fit_intercept=True, max_iter=None,\n",
       "   normalize=False, random_state=None, solver='auto', tol=0.001),\n",
       "       fit_params={}, iid=True, n_jobs=1,\n",
       "       param_grid=[{'alpha': array([  1.00000e+00,   1.59986e+00,   2.55955e+00,   4.09492e+00,\n",
       "         6.55129e+00,   1.04811e+01,   1.67683e+01,   2.68270e+01,\n",
       "         4.29193e+01,   6.86649e+01,   1.09854e+02,   1.75751e+02,\n",
       "         2.81177e+02,   4.49843e+02,   7.19686e+02,   1.15140e+03,\n",
       "         1...9,   2.44205e+09,   3.90694e+09,\n",
       "         6.25055e+09,   1.00000e+10]), 'normalize': [True, False]}],\n",
       "       pre_dispatch='2*n_jobs', refit=True, scoring='mean_squared_error',\n",
       "       verbose=0)"
      ]
     },
     "execution_count": 29,
     "metadata": {},
     "output_type": "execute_result"
    }
   ],
   "source": [
    "ridge_clf = Ridge()\n",
    "grid = GridSearchCV(ridge_clf, model_grid, cv=LeaveOneOut(train.shape[0]), scoring='mean_squared_error')\n",
    "grid"
   ]
  },
  {
   "cell_type": "code",
   "execution_count": 30,
   "metadata": {
    "collapsed": false
   },
   "outputs": [
    {
     "data": {
      "text/plain": [
       "{'alpha': 4.0949150623804256, 'normalize': True}"
      ]
     },
     "execution_count": 30,
     "metadata": {},
     "output_type": "execute_result"
    }
   ],
   "source": [
    "grid.fit(train_processed, train[\"Revenue\"])\n",
    "grid.best_params_"
   ]
  },
  {
   "cell_type": "code",
   "execution_count": 458,
   "metadata": {
    "collapsed": false
   },
   "outputs": [],
   "source": [
    "# Proposed idea\n",
    "# Ridge model\n",
    "model_grid = [{'normalize': [True, False], 'alpha': np.logspace(0,10)}]\n",
    "ridge_clf = Ridge()\n",
    "\n",
    "# Use a grid search and leave-one-out CV on the train set to find the best regularization parameter to use.\n",
    "grid = GridSearchCV(ridge_clf, model_grid, cv=LeaveOneOut(train.shape[0]), scoring='mean_squared_error')\n",
    "grid.fit(train_processed, train[\"Revenue\"])\n",
    "\n",
    "# Re-train on full training set using the best parameters found in the last step.\n",
    "ridge_clf.set_params(**grid.best_params_)\n",
    "ridge_clf.fit(train_processed, train[\"Revenue\"])\n",
    "\n",
    "# results_ridge = np.exp(ridge_clf.predict(test_processed))\n",
    "results_ridge = ridge_clf.predict(test_processed)"
   ]
  },
  {
   "cell_type": "code",
   "execution_count": 459,
   "metadata": {
    "collapsed": false
   },
   "outputs": [],
   "source": [
    "# Proposed idea\n",
    "# Lasso model\n",
    "model_grid = [{'normalize': [True, False], 'alpha': np.logspace(0,10)}]\n",
    "lasso_clf = Lasso()\n",
    "\n",
    "# Use a grid search and leave-one-out CV on the train set to find the best regularization parameter to use.\n",
    "grid = GridSearchCV(lasso_clf, model_grid, cv=LeaveOneOut(train.shape[0]), scoring='mean_squared_error')\n",
    "grid.fit(train_processed, train[\"Revenue\"])\n",
    "\n",
    "# Re-train on full training set using the best parameters found in the last step.\n",
    "lasso_clf.set_params(**grid.best_params_)\n",
    "lasso_clf.fit(train_processed, train[\"Revenue\"])\n",
    "\n",
    "results_lasso = lasso_clf.predict(test_processed)"
   ]
  },
  {
   "cell_type": "code",
   "execution_count": 112,
   "metadata": {
    "collapsed": false
   },
   "outputs": [],
   "source": [
    "# Log treatment\n",
    "results_ridge = np.exp(results_ridge)"
   ]
  },
  {
   "cell_type": "code",
   "execution_count": 460,
   "metadata": {
    "collapsed": true
   },
   "outputs": [],
   "source": [
    "# Sqrt treatment\n",
    "results_ridge = np.square(results_ridge)"
   ]
  },
  {
   "cell_type": "code",
   "execution_count": 461,
   "metadata": {
    "collapsed": true
   },
   "outputs": [],
   "source": [
    "# Sqrt treatment\n",
    "results_lasso = np.square(results_lasso)"
   ]
  },
  {
   "cell_type": "code",
   "execution_count": 331,
   "metadata": {
    "collapsed": true
   },
   "outputs": [],
   "source": [
    "# Try out different ensembles\n",
    "# Ensembling helps to average out the error due to different models\n",
    "# Paper\n",
    "results_agg = 0.5*results_rf + 0.5*results_svm"
   ]
  },
  {
   "cell_type": "code",
   "execution_count": 386,
   "metadata": {
    "collapsed": true
   },
   "outputs": [],
   "source": [
    "# More weight to SVR as it gave the best individual results\n",
    "results_agg = 0.3*results_rf + 0.2*results_svm + 0.5*results_ridge"
   ]
  },
  {
   "cell_type": "code",
   "execution_count": 462,
   "metadata": {
    "collapsed": true
   },
   "outputs": [],
   "source": [
    "# More weight to SVR as it gave the best individual results\n",
    "results_agg = 0.3*results_ridge + 0.3*results_lasso + 0.25*results_rf + 0.15*results_svm"
   ]
  },
  {
   "cell_type": "code",
   "execution_count": 402,
   "metadata": {
    "collapsed": true
   },
   "outputs": [],
   "source": [
    "# Final results\n",
    "results_final = results_ridge"
   ]
  },
  {
   "cell_type": "code",
   "execution_count": 246,
   "metadata": {
    "collapsed": true
   },
   "outputs": [],
   "source": [
    "# Final results\n",
    "results_final = results_rf"
   ]
  },
  {
   "cell_type": "code",
   "execution_count": 312,
   "metadata": {
    "collapsed": true
   },
   "outputs": [],
   "source": [
    "results_final = results_svm"
   ]
  },
  {
   "cell_type": "code",
   "execution_count": 463,
   "metadata": {
    "collapsed": true
   },
   "outputs": [],
   "source": [
    "results_final = results_agg"
   ]
  },
  {
   "cell_type": "code",
   "execution_count": 419,
   "metadata": {
    "collapsed": true
   },
   "outputs": [],
   "source": [
    "results_final = results_lasso"
   ]
  },
  {
   "cell_type": "code",
   "execution_count": 464,
   "metadata": {
    "collapsed": false
   },
   "outputs": [],
   "source": [
    "submission = pd.DataFrame(columns=['Prediction'],index=test.index, data=results_final)\n",
    "submission.index.name = 'Id'"
   ]
  },
  {
   "cell_type": "code",
   "execution_count": 465,
   "metadata": {
    "collapsed": false
   },
   "outputs": [
    {
     "data": {
      "text/html": [
       "<div>\n",
       "<table border=\"1\" class=\"dataframe\">\n",
       "  <thead>\n",
       "    <tr style=\"text-align: right;\">\n",
       "      <th></th>\n",
       "      <th>Prediction</th>\n",
       "    </tr>\n",
       "  </thead>\n",
       "  <tbody>\n",
       "    <tr>\n",
       "      <th>count</th>\n",
       "      <td>100000</td>\n",
       "    </tr>\n",
       "    <tr>\n",
       "      <th>mean</th>\n",
       "      <td>4295193</td>\n",
       "    </tr>\n",
       "    <tr>\n",
       "      <th>std</th>\n",
       "      <td>646709</td>\n",
       "    </tr>\n",
       "    <tr>\n",
       "      <th>min</th>\n",
       "      <td>2346455</td>\n",
       "    </tr>\n",
       "    <tr>\n",
       "      <th>25%</th>\n",
       "      <td>3851618</td>\n",
       "    </tr>\n",
       "    <tr>\n",
       "      <th>50%</th>\n",
       "      <td>4261072</td>\n",
       "    </tr>\n",
       "    <tr>\n",
       "      <th>75%</th>\n",
       "      <td>4690289</td>\n",
       "    </tr>\n",
       "    <tr>\n",
       "      <th>max</th>\n",
       "      <td>7732133</td>\n",
       "    </tr>\n",
       "  </tbody>\n",
       "</table>\n",
       "</div>"
      ],
      "text/plain": [
       "       Prediction\n",
       "count      100000\n",
       "mean      4295193\n",
       "std        646709\n",
       "min       2346455\n",
       "25%       3851618\n",
       "50%       4261072\n",
       "75%       4690289\n",
       "max       7732133"
      ]
     },
     "execution_count": 465,
     "metadata": {},
     "output_type": "execute_result"
    }
   ],
   "source": [
    "submission.describe().astype(int)"
   ]
  },
  {
   "cell_type": "code",
   "execution_count": 466,
   "metadata": {
    "collapsed": true
   },
   "outputs": [],
   "source": [
    "# Write out the submission\n",
    "submission.to_csv(\"../temp.csv\")"
   ]
  },
  {
   "cell_type": "code",
   "execution_count": null,
   "metadata": {
    "collapsed": true
   },
   "outputs": [],
   "source": []
  }
 ],
 "metadata": {
  "anaconda-cloud": {},
  "kernelspec": {
   "display_name": "Python 3",
   "language": "python",
   "name": "python3"
  },
  "language_info": {
   "codemirror_mode": {
    "name": "ipython",
    "version": 3
   },
   "file_extension": ".py",
   "mimetype": "text/x-python",
   "name": "python",
   "nbconvert_exporter": "python",
   "pygments_lexer": "ipython3",
   "version": "3.5.2"
  }
 },
 "nbformat": 4,
 "nbformat_minor": 0
}
